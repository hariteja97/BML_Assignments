{
 "cells": [
  {
   "cell_type": "code",
   "execution_count": 11,
   "metadata": {},
   "outputs": [
    {
     "name": "stdout",
     "output_type": "stream",
     "text": [
      "Requirement already satisfied: selenium in c:\\users\\harin\\anaconda3\\lib\\site-packages (3.141.0)\n",
      "Requirement already satisfied: urllib3 in c:\\users\\harin\\anaconda3\\lib\\site-packages (from selenium) (1.25.9)\n"
     ]
    }
   ],
   "source": [
    "!pip install selenium\n",
    "# https://msc.fema.gov/portal/downloadProduct?productTypeID=FINAL_PRODUCT&productSubTypeID=FIRM_PANEL&productID=12086C0284L"
   ]
  },
  {
   "cell_type": "code",
   "execution_count": 3,
   "metadata": {},
   "outputs": [
    {
     "name": "stdout",
     "output_type": "stream",
     "text": [
      "done\n"
     ]
    }
   ],
   "source": [
    "from selenium import webdriver\n",
    "from selenium.webdriver.common.by import By\n",
    "from selenium.webdriver.support.ui import WebDriverWait\n",
    "from selenium.webdriver.support import expected_conditions as EC\n",
    "\n",
    "\n",
    "DRIVER_PATH = r'C:\\Users\\harin\\Dropbox\\My PC (LAPTOP-OPMG3BTC)\\Downloads\\chromedriver_win32 (1)\\chromedriver.exe'\n",
    "driver = webdriver.Chrome(executable_path=DRIVER_PATH)\n",
    "driver.get('https://msc.fema.gov/portal/home')\n",
    "\n",
    "options = webdriver.ChromeOptions() ;\n",
    "prefs = {\"download.default_directory\" : \"D:\\GRA_Truist\\Dataset\"};\n",
    "#example: prefs = {\"download.default_directory\" : \"C:\\Tutorial\\down\"};\n",
    "options.add_experimental_option(\"prefs\",prefs);\n",
    "\n",
    "\n",
    "PASSWORD='170 W 13TH ST,HIALEAH, FL 33010'\n",
    "password = driver.find_element_by_xpath(\"//input[@type='search']\").send_keys(PASSWORD)\n",
    "submit = driver.find_element_by_xpath(\"//input[@value='Search']\").click()\n",
    "try:\n",
    "    element = WebDriverWait(driver, 10).until(\n",
    "        EC.presence_of_element_located((By.ID, \"flood_map_download\"))\n",
    "    \n",
    "    )\n",
    "    dispatch_button = driver.find_element_by_xpath(\"//*[contains(@id, 'flood_map_download')]\")\n",
    "    dispatch_button.click()\n",
    "\n",
    "\n",
    "finally:\n",
    "    print(\"done downloading the map\")"
   ]
  },
  {
   "cell_type": "code",
   "execution_count": null,
   "metadata": {},
   "outputs": [],
   "source": []
  }
 ],
 "metadata": {
  "kernelspec": {
   "display_name": "Python 3",
   "language": "python",
   "name": "python3"
  },
  "language_info": {
   "codemirror_mode": {
    "name": "ipython",
    "version": 3
   },
   "file_extension": ".py",
   "mimetype": "text/x-python",
   "name": "python",
   "nbconvert_exporter": "python",
   "pygments_lexer": "ipython3",
   "version": "3.8.3"
  }
 },
 "nbformat": 4,
 "nbformat_minor": 4
}
