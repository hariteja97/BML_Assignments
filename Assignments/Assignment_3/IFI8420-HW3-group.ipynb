{
 "cells": [
  {
   "cell_type": "markdown",
   "metadata": {},
   "source": [
    "IFI8420 (Business Machine Learning) \n",
    "Homework 3 (Group)\n",
    "\n",
    "Student's name: Eferhire Aganbi\n",
    "\n",
    "#Import required packages"
   ]
  },
  {
   "cell_type": "code",
   "execution_count": 1,
   "metadata": {},
   "outputs": [
    {
     "name": "stdout",
     "output_type": "stream",
     "text": [
      "Requirement already satisfied: dmba in c:\\users\\harin\\anaconda3\\lib\\site-packages (0.0.19)\n"
     ]
    }
   ],
   "source": [
    "!pip install dmba"
   ]
  },
  {
   "cell_type": "code",
   "execution_count": 2,
   "metadata": {},
   "outputs": [],
   "source": [
    "%matplotlib inline\n",
    "from pathlib import Path\n",
    "\n",
    "import pandas as pd\n",
    "from sklearn.model_selection import train_test_split\n",
    "from sklearn.linear_model import LinearRegression, Lasso, Ridge, LassoCV, BayesianRidge\n",
    "import statsmodels.formula.api as sm\n",
    "import matplotlib.pylab as plt\n",
    "import seaborn as sns\n",
    "from statsmodels.api import add_constant\n",
    "from statsmodels.formula.api import ols\n",
    "\n",
    "from dmba import regressionSummary, exhaustive_search\n",
    "from dmba import backward_elimination, forward_selection, stepwise_selection\n",
    "from dmba import adjusted_r2_score, AIC_score, BIC_score"
   ]
  },
  {
   "cell_type": "markdown",
   "metadata": {},
   "source": [
    "# State Business question:\n",
    "\n",
    "Imagine that we are a firm of data scientists/analysts employed by a company that owns a chain of supermarket stores across states in the US. Our consulting firm has been hired to conduct a survey on consumers' perception of cereals brands stocked by the supermarket; the goal is to identify what informs customers' decision for picking a particular brand as a healthier option.  We have been asked to examine which nutrients consumers considered more important when selecting a healthy cereal brand. If successful, our analysis will help the company decide on key improvements on popular cereal brands. "
   ]
  },
  {
   "cell_type": "code",
   "execution_count": 3,
   "metadata": {},
   "outputs": [],
   "source": [
    "# upload data as csv.file \n",
    "\n",
    "cereal_df = pd.read_csv('Cereals.csv')"
   ]
  },
  {
   "cell_type": "code",
   "execution_count": 4,
   "metadata": {
    "scrolled": true
   },
   "outputs": [
    {
     "data": {
      "text/html": [
       "<div>\n",
       "<style scoped>\n",
       "    .dataframe tbody tr th:only-of-type {\n",
       "        vertical-align: middle;\n",
       "    }\n",
       "\n",
       "    .dataframe tbody tr th {\n",
       "        vertical-align: top;\n",
       "    }\n",
       "\n",
       "    .dataframe thead th {\n",
       "        text-align: right;\n",
       "    }\n",
       "</style>\n",
       "<table border=\"1\" class=\"dataframe\">\n",
       "  <thead>\n",
       "    <tr style=\"text-align: right;\">\n",
       "      <th></th>\n",
       "      <th>name</th>\n",
       "      <th>mfr</th>\n",
       "      <th>type</th>\n",
       "      <th>calories</th>\n",
       "      <th>protein</th>\n",
       "      <th>fat</th>\n",
       "      <th>sodium</th>\n",
       "      <th>fiber</th>\n",
       "      <th>carbo</th>\n",
       "      <th>sugars</th>\n",
       "      <th>potass</th>\n",
       "      <th>vitamins</th>\n",
       "      <th>shelf</th>\n",
       "      <th>weight</th>\n",
       "      <th>cups</th>\n",
       "      <th>rating</th>\n",
       "    </tr>\n",
       "  </thead>\n",
       "  <tbody>\n",
       "    <tr>\n",
       "      <th>0</th>\n",
       "      <td>100%_Bran</td>\n",
       "      <td>N</td>\n",
       "      <td>C</td>\n",
       "      <td>70</td>\n",
       "      <td>4</td>\n",
       "      <td>1</td>\n",
       "      <td>130</td>\n",
       "      <td>10.0</td>\n",
       "      <td>5.0</td>\n",
       "      <td>6.0</td>\n",
       "      <td>280.0</td>\n",
       "      <td>25</td>\n",
       "      <td>3</td>\n",
       "      <td>1.0</td>\n",
       "      <td>0.33</td>\n",
       "      <td>68.402973</td>\n",
       "    </tr>\n",
       "    <tr>\n",
       "      <th>1</th>\n",
       "      <td>100%_Natural_Bran</td>\n",
       "      <td>Q</td>\n",
       "      <td>C</td>\n",
       "      <td>120</td>\n",
       "      <td>3</td>\n",
       "      <td>5</td>\n",
       "      <td>15</td>\n",
       "      <td>2.0</td>\n",
       "      <td>8.0</td>\n",
       "      <td>8.0</td>\n",
       "      <td>135.0</td>\n",
       "      <td>0</td>\n",
       "      <td>3</td>\n",
       "      <td>1.0</td>\n",
       "      <td>1.00</td>\n",
       "      <td>33.983679</td>\n",
       "    </tr>\n",
       "    <tr>\n",
       "      <th>2</th>\n",
       "      <td>All-Bran</td>\n",
       "      <td>K</td>\n",
       "      <td>C</td>\n",
       "      <td>70</td>\n",
       "      <td>4</td>\n",
       "      <td>1</td>\n",
       "      <td>260</td>\n",
       "      <td>9.0</td>\n",
       "      <td>7.0</td>\n",
       "      <td>5.0</td>\n",
       "      <td>320.0</td>\n",
       "      <td>25</td>\n",
       "      <td>3</td>\n",
       "      <td>1.0</td>\n",
       "      <td>0.33</td>\n",
       "      <td>59.425505</td>\n",
       "    </tr>\n",
       "    <tr>\n",
       "      <th>3</th>\n",
       "      <td>All-Bran_with_Extra_Fiber</td>\n",
       "      <td>K</td>\n",
       "      <td>C</td>\n",
       "      <td>50</td>\n",
       "      <td>4</td>\n",
       "      <td>0</td>\n",
       "      <td>140</td>\n",
       "      <td>14.0</td>\n",
       "      <td>8.0</td>\n",
       "      <td>0.0</td>\n",
       "      <td>330.0</td>\n",
       "      <td>25</td>\n",
       "      <td>3</td>\n",
       "      <td>1.0</td>\n",
       "      <td>0.50</td>\n",
       "      <td>93.704912</td>\n",
       "    </tr>\n",
       "    <tr>\n",
       "      <th>4</th>\n",
       "      <td>Almond_Delight</td>\n",
       "      <td>R</td>\n",
       "      <td>C</td>\n",
       "      <td>110</td>\n",
       "      <td>2</td>\n",
       "      <td>2</td>\n",
       "      <td>200</td>\n",
       "      <td>1.0</td>\n",
       "      <td>14.0</td>\n",
       "      <td>8.0</td>\n",
       "      <td>NaN</td>\n",
       "      <td>25</td>\n",
       "      <td>3</td>\n",
       "      <td>1.0</td>\n",
       "      <td>0.75</td>\n",
       "      <td>34.384843</td>\n",
       "    </tr>\n",
       "  </tbody>\n",
       "</table>\n",
       "</div>"
      ],
      "text/plain": [
       "                        name mfr type  calories  protein  fat  sodium  fiber  \\\n",
       "0                  100%_Bran   N    C        70        4    1     130   10.0   \n",
       "1          100%_Natural_Bran   Q    C       120        3    5      15    2.0   \n",
       "2                   All-Bran   K    C        70        4    1     260    9.0   \n",
       "3  All-Bran_with_Extra_Fiber   K    C        50        4    0     140   14.0   \n",
       "4             Almond_Delight   R    C       110        2    2     200    1.0   \n",
       "\n",
       "   carbo  sugars  potass  vitamins  shelf  weight  cups     rating  \n",
       "0    5.0     6.0   280.0        25      3     1.0  0.33  68.402973  \n",
       "1    8.0     8.0   135.0         0      3     1.0  1.00  33.983679  \n",
       "2    7.0     5.0   320.0        25      3     1.0  0.33  59.425505  \n",
       "3    8.0     0.0   330.0        25      3     1.0  0.50  93.704912  \n",
       "4   14.0     8.0     NaN        25      3     1.0  0.75  34.384843  "
      ]
     },
     "execution_count": 4,
     "metadata": {},
     "output_type": "execute_result"
    }
   ],
   "source": [
    "cereal_df.head()"
   ]
  },
  {
   "cell_type": "code",
   "execution_count": 5,
   "metadata": {},
   "outputs": [
    {
     "data": {
      "text/plain": [
       "(77, 16)"
      ]
     },
     "execution_count": 5,
     "metadata": {},
     "output_type": "execute_result"
    }
   ],
   "source": [
    "cereal_df.shape"
   ]
  },
  {
   "cell_type": "code",
   "execution_count": 6,
   "metadata": {},
   "outputs": [
    {
     "name": "stdout",
     "output_type": "stream",
     "text": [
      "<class 'pandas.core.frame.DataFrame'>\n",
      "RangeIndex: 77 entries, 0 to 76\n",
      "Data columns (total 16 columns):\n",
      " #   Column    Non-Null Count  Dtype  \n",
      "---  ------    --------------  -----  \n",
      " 0   name      77 non-null     object \n",
      " 1   mfr       77 non-null     object \n",
      " 2   type      77 non-null     object \n",
      " 3   calories  77 non-null     int64  \n",
      " 4   protein   77 non-null     int64  \n",
      " 5   fat       77 non-null     int64  \n",
      " 6   sodium    77 non-null     int64  \n",
      " 7   fiber     77 non-null     float64\n",
      " 8   carbo     76 non-null     float64\n",
      " 9   sugars    76 non-null     float64\n",
      " 10  potass    75 non-null     float64\n",
      " 11  vitamins  77 non-null     int64  \n",
      " 12  shelf     77 non-null     int64  \n",
      " 13  weight    77 non-null     float64\n",
      " 14  cups      77 non-null     float64\n",
      " 15  rating    77 non-null     float64\n",
      "dtypes: float64(7), int64(6), object(3)\n",
      "memory usage: 9.8+ KB\n"
     ]
    }
   ],
   "source": [
    "# introduce dataset\n",
    "\n",
    "cereal_df.info()"
   ]
  },
  {
   "cell_type": "code",
   "execution_count": 7,
   "metadata": {
    "scrolled": true
   },
   "outputs": [
    {
     "data": {
      "text/html": [
       "<div>\n",
       "<style scoped>\n",
       "    .dataframe tbody tr th:only-of-type {\n",
       "        vertical-align: middle;\n",
       "    }\n",
       "\n",
       "    .dataframe tbody tr th {\n",
       "        vertical-align: top;\n",
       "    }\n",
       "\n",
       "    .dataframe thead th {\n",
       "        text-align: right;\n",
       "    }\n",
       "</style>\n",
       "<table border=\"1\" class=\"dataframe\">\n",
       "  <thead>\n",
       "    <tr style=\"text-align: right;\">\n",
       "      <th></th>\n",
       "      <th>calories</th>\n",
       "      <th>protein</th>\n",
       "      <th>fat</th>\n",
       "      <th>sodium</th>\n",
       "      <th>fiber</th>\n",
       "      <th>carbo</th>\n",
       "      <th>sugars</th>\n",
       "      <th>potass</th>\n",
       "      <th>vitamins</th>\n",
       "      <th>shelf</th>\n",
       "      <th>weight</th>\n",
       "      <th>cups</th>\n",
       "      <th>rating</th>\n",
       "    </tr>\n",
       "  </thead>\n",
       "  <tbody>\n",
       "    <tr>\n",
       "      <th>count</th>\n",
       "      <td>77.000000</td>\n",
       "      <td>77.000000</td>\n",
       "      <td>77.000000</td>\n",
       "      <td>77.000000</td>\n",
       "      <td>77.000000</td>\n",
       "      <td>76.000000</td>\n",
       "      <td>76.000000</td>\n",
       "      <td>75.000000</td>\n",
       "      <td>77.000000</td>\n",
       "      <td>77.000000</td>\n",
       "      <td>77.000000</td>\n",
       "      <td>77.000000</td>\n",
       "      <td>77.000000</td>\n",
       "    </tr>\n",
       "    <tr>\n",
       "      <th>mean</th>\n",
       "      <td>106.883117</td>\n",
       "      <td>2.545455</td>\n",
       "      <td>1.012987</td>\n",
       "      <td>159.675325</td>\n",
       "      <td>2.151948</td>\n",
       "      <td>14.802632</td>\n",
       "      <td>7.026316</td>\n",
       "      <td>98.666667</td>\n",
       "      <td>28.246753</td>\n",
       "      <td>2.207792</td>\n",
       "      <td>1.029610</td>\n",
       "      <td>0.821039</td>\n",
       "      <td>42.665705</td>\n",
       "    </tr>\n",
       "    <tr>\n",
       "      <th>std</th>\n",
       "      <td>19.484119</td>\n",
       "      <td>1.094790</td>\n",
       "      <td>1.006473</td>\n",
       "      <td>83.832295</td>\n",
       "      <td>2.383364</td>\n",
       "      <td>3.907326</td>\n",
       "      <td>4.378656</td>\n",
       "      <td>70.410636</td>\n",
       "      <td>22.342523</td>\n",
       "      <td>0.832524</td>\n",
       "      <td>0.150477</td>\n",
       "      <td>0.232716</td>\n",
       "      <td>14.047289</td>\n",
       "    </tr>\n",
       "    <tr>\n",
       "      <th>min</th>\n",
       "      <td>50.000000</td>\n",
       "      <td>1.000000</td>\n",
       "      <td>0.000000</td>\n",
       "      <td>0.000000</td>\n",
       "      <td>0.000000</td>\n",
       "      <td>5.000000</td>\n",
       "      <td>0.000000</td>\n",
       "      <td>15.000000</td>\n",
       "      <td>0.000000</td>\n",
       "      <td>1.000000</td>\n",
       "      <td>0.500000</td>\n",
       "      <td>0.250000</td>\n",
       "      <td>18.042851</td>\n",
       "    </tr>\n",
       "    <tr>\n",
       "      <th>25%</th>\n",
       "      <td>100.000000</td>\n",
       "      <td>2.000000</td>\n",
       "      <td>0.000000</td>\n",
       "      <td>130.000000</td>\n",
       "      <td>1.000000</td>\n",
       "      <td>12.000000</td>\n",
       "      <td>3.000000</td>\n",
       "      <td>42.500000</td>\n",
       "      <td>25.000000</td>\n",
       "      <td>1.000000</td>\n",
       "      <td>1.000000</td>\n",
       "      <td>0.670000</td>\n",
       "      <td>33.174094</td>\n",
       "    </tr>\n",
       "    <tr>\n",
       "      <th>50%</th>\n",
       "      <td>110.000000</td>\n",
       "      <td>3.000000</td>\n",
       "      <td>1.000000</td>\n",
       "      <td>180.000000</td>\n",
       "      <td>2.000000</td>\n",
       "      <td>14.500000</td>\n",
       "      <td>7.000000</td>\n",
       "      <td>90.000000</td>\n",
       "      <td>25.000000</td>\n",
       "      <td>2.000000</td>\n",
       "      <td>1.000000</td>\n",
       "      <td>0.750000</td>\n",
       "      <td>40.400208</td>\n",
       "    </tr>\n",
       "    <tr>\n",
       "      <th>75%</th>\n",
       "      <td>110.000000</td>\n",
       "      <td>3.000000</td>\n",
       "      <td>2.000000</td>\n",
       "      <td>210.000000</td>\n",
       "      <td>3.000000</td>\n",
       "      <td>17.000000</td>\n",
       "      <td>11.000000</td>\n",
       "      <td>120.000000</td>\n",
       "      <td>25.000000</td>\n",
       "      <td>3.000000</td>\n",
       "      <td>1.000000</td>\n",
       "      <td>1.000000</td>\n",
       "      <td>50.828392</td>\n",
       "    </tr>\n",
       "    <tr>\n",
       "      <th>max</th>\n",
       "      <td>160.000000</td>\n",
       "      <td>6.000000</td>\n",
       "      <td>5.000000</td>\n",
       "      <td>320.000000</td>\n",
       "      <td>14.000000</td>\n",
       "      <td>23.000000</td>\n",
       "      <td>15.000000</td>\n",
       "      <td>330.000000</td>\n",
       "      <td>100.000000</td>\n",
       "      <td>3.000000</td>\n",
       "      <td>1.500000</td>\n",
       "      <td>1.500000</td>\n",
       "      <td>93.704912</td>\n",
       "    </tr>\n",
       "  </tbody>\n",
       "</table>\n",
       "</div>"
      ],
      "text/plain": [
       "         calories    protein        fat      sodium      fiber      carbo  \\\n",
       "count   77.000000  77.000000  77.000000   77.000000  77.000000  76.000000   \n",
       "mean   106.883117   2.545455   1.012987  159.675325   2.151948  14.802632   \n",
       "std     19.484119   1.094790   1.006473   83.832295   2.383364   3.907326   \n",
       "min     50.000000   1.000000   0.000000    0.000000   0.000000   5.000000   \n",
       "25%    100.000000   2.000000   0.000000  130.000000   1.000000  12.000000   \n",
       "50%    110.000000   3.000000   1.000000  180.000000   2.000000  14.500000   \n",
       "75%    110.000000   3.000000   2.000000  210.000000   3.000000  17.000000   \n",
       "max    160.000000   6.000000   5.000000  320.000000  14.000000  23.000000   \n",
       "\n",
       "          sugars      potass    vitamins      shelf     weight       cups  \\\n",
       "count  76.000000   75.000000   77.000000  77.000000  77.000000  77.000000   \n",
       "mean    7.026316   98.666667   28.246753   2.207792   1.029610   0.821039   \n",
       "std     4.378656   70.410636   22.342523   0.832524   0.150477   0.232716   \n",
       "min     0.000000   15.000000    0.000000   1.000000   0.500000   0.250000   \n",
       "25%     3.000000   42.500000   25.000000   1.000000   1.000000   0.670000   \n",
       "50%     7.000000   90.000000   25.000000   2.000000   1.000000   0.750000   \n",
       "75%    11.000000  120.000000   25.000000   3.000000   1.000000   1.000000   \n",
       "max    15.000000  330.000000  100.000000   3.000000   1.500000   1.500000   \n",
       "\n",
       "          rating  \n",
       "count  77.000000  \n",
       "mean   42.665705  \n",
       "std    14.047289  \n",
       "min    18.042851  \n",
       "25%    33.174094  \n",
       "50%    40.400208  \n",
       "75%    50.828392  \n",
       "max    93.704912  "
      ]
     },
     "execution_count": 7,
     "metadata": {},
     "output_type": "execute_result"
    }
   ],
   "source": [
    "cereal_df.describe()"
   ]
  },
  {
   "cell_type": "code",
   "execution_count": 8,
   "metadata": {},
   "outputs": [
    {
     "data": {
      "text/plain": [
       "<AxesSubplot:>"
      ]
     },
     "execution_count": 8,
     "metadata": {},
     "output_type": "execute_result"
    },
    {
     "data": {
      "image/png": "[encoded data removed]",
      "text/plain": [
       "<Figure size 432x288 with 2 Axes>"
      ]
     },
     "metadata": {
      "needs_background": "light"
     },
     "output_type": "display_data"
    }
   ],
   "source": [
    "corr = cereal_df.corr()\n",
    "sns.heatmap(corr, xticklabels=corr.columns, yticklabels=corr.columns)"
   ]
  },
  {
   "cell_type": "code",
   "execution_count": 9,
   "metadata": {
    "scrolled": false
   },
   "outputs": [
    {
     "data": {
      "image/png": "[encoded data removed]",
      "text/plain": [
       "<Figure size 792x504 with 2 Axes>"
      ]
     },
     "metadata": {
      "needs_background": "light"
     },
     "output_type": "display_data"
    }
   ],
   "source": [
    "fig, ax = plt.subplots()\n",
    "fig.set_size_inches(11, 7)\n",
    "sns.heatmap(corr, annot=True, fmt=\".1f\", cmap=\"RdBu\", center=0, ax=ax)\n",
    "\n",
    "plt.show()"
   ]
  },
  {
   "cell_type": "code",
   "execution_count": 10,
   "metadata": {},
   "outputs": [
    {
     "data": {
      "text/plain": [
       "Index(['name', 'mfr', 'type_cereal', 'calories', 'protein', 'fat', 'sodium',\n",
       "       'fiber', 'carbo', 'sugars', 'potass', 'vitamins', 'shelf', 'weight',\n",
       "       'cups', 'rating'],\n",
       "      dtype='object')"
      ]
     },
     "execution_count": 10,
     "metadata": {},
     "output_type": "execute_result"
    }
   ],
   "source": [
    "# Data pre-processing and cleaning\n",
    "cereal_df = cereal_df.rename(columns={'type': 'type_cereal'})       #changes column name 'type' to 'type_cereal'\n",
    "cereal_df.columns"
   ]
  },
  {
   "cell_type": "code",
   "execution_count": 11,
   "metadata": {
    "scrolled": true
   },
   "outputs": [
    {
     "data": {
      "text/plain": [
       "name           0\n",
       "mfr            0\n",
       "type_cereal    0\n",
       "calories       0\n",
       "protein        0\n",
       "fat            0\n",
       "sodium         0\n",
       "fiber          0\n",
       "carbo          1\n",
       "sugars         1\n",
       "potass         2\n",
       "vitamins       0\n",
       "shelf          0\n",
       "weight         0\n",
       "cups           0\n",
       "rating         0\n",
       "dtype: int64"
      ]
     },
     "execution_count": 11,
     "metadata": {},
     "output_type": "execute_result"
    }
   ],
   "source": [
    "cereal_df.isna().sum()                                    #checking for missing values"
   ]
  },
  {
   "cell_type": "code",
   "execution_count": 12,
   "metadata": {},
   "outputs": [
    {
     "name": "stdout",
     "output_type": "stream",
     "text": [
      "Number of rows after removing rows with missing values:  74\n"
     ]
    }
   ],
   "source": [
    "# remove rows with missing values \n",
    "reduced_df = cereal_df.dropna()\n",
    "print('Number of rows after removing rows with missing values: ', len(reduced_df))"
   ]
  },
  {
   "cell_type": "code",
   "execution_count": 13,
   "metadata": {
    "scrolled": true
   },
   "outputs": [
    {
     "name": "stdout",
     "output_type": "stream",
     "text": [
      "Number of rows with valid carbo values after filling NA values:  77\n"
     ]
    }
   ],
   "source": [
    "mediancarbo = cereal_df['carbo'].median()\n",
    "cereal_df.carbo = cereal_df.carbo.fillna(value=mediancarbo)\n",
    "print('Number of rows with valid carbo values after filling NA values: ',\n",
    "      cereal_df['carbo'].count())"
   ]
  },
  {
   "cell_type": "code",
   "execution_count": 14,
   "metadata": {},
   "outputs": [
    {
     "name": "stdout",
     "output_type": "stream",
     "text": [
      "Number of rows with valid sugars values after filling NA values:  77\n"
     ]
    }
   ],
   "source": [
    "mediansugars = cereal_df['sugars'].median()\n",
    "cereal_df.sugars = cereal_df.sugars.fillna(value=mediansugars)\n",
    "print('Number of rows with valid sugars values after filling NA values: ',\n",
    "      cereal_df['sugars'].count())"
   ]
  },
  {
   "cell_type": "code",
   "execution_count": 15,
   "metadata": {},
   "outputs": [
    {
     "name": "stdout",
     "output_type": "stream",
     "text": [
      "Number of rows with valid potass values after filling NA values:  77\n"
     ]
    }
   ],
   "source": [
    "medianpotass = cereal_df['potass'].median()\n",
    "cereal_df.potass = cereal_df.potass.fillna(value=medianpotass)\n",
    "print('Number of rows with valid potass values after filling NA values: ',\n",
    "      cereal_df['potass'].count())"
   ]
  },
  {
   "cell_type": "code",
   "execution_count": 16,
   "metadata": {},
   "outputs": [
    {
     "data": {
      "text/plain": [
       "name           0\n",
       "mfr            0\n",
       "type_cereal    0\n",
       "calories       0\n",
       "protein        0\n",
       "fat            0\n",
       "sodium         0\n",
       "fiber          0\n",
       "carbo          0\n",
       "sugars         0\n",
       "potass         0\n",
       "vitamins       0\n",
       "shelf          0\n",
       "weight         0\n",
       "cups           0\n",
       "rating         0\n",
       "dtype: int64"
      ]
     },
     "execution_count": 16,
     "metadata": {},
     "output_type": "execute_result"
    }
   ],
   "source": [
    "cereal_df.isna().sum()   "
   ]
  },
  {
   "cell_type": "code",
   "execution_count": 17,
   "metadata": {},
   "outputs": [
    {
     "name": "stdout",
     "output_type": "stream",
     "text": [
      "intercept  55.278307023423174\n",
      "        Predictor  coefficient\n",
      "0        calories    -0.231811\n",
      "1         protein     3.277004\n",
      "2             fat    -1.574873\n",
      "3          sodium    -0.053469\n",
      "4           fiber     3.398189\n",
      "5           carbo     1.124065\n",
      "6          sugars    -0.692841\n",
      "7          potass    -0.032716\n",
      "8        vitamins    -0.052309\n",
      "9           shelf     0.065851\n",
      "10         weight    -0.256659\n",
      "11           cups    -0.222230\n",
      "12  type_cereal_H     3.171197\n",
      "\n",
      "Regression statistics\n",
      "\n",
      "                      Mean Error (ME) : 0.0000\n",
      "       Root Mean Squared Error (RMSE) : 0.4029\n",
      "            Mean Absolute Error (MAE) : 0.1581\n",
      "          Mean Percentage Error (MPE) : -0.0154\n",
      "Mean Absolute Percentage Error (MAPE) : 0.4335\n"
     ]
    }
   ],
   "source": [
    "#Run linear Regression Analysis\n",
    "\n",
    "predictors = ['type_cereal','calories','protein','fat','sodium','fiber','carbo', \n",
    "              'sugars','potass', 'vitamins', 'shelf','weight','cups']\n",
    "outcome = 'rating'\n",
    "\n",
    "# partition data\n",
    "X = pd.get_dummies(cereal_df[predictors], drop_first=True)\n",
    "y = cereal_df[outcome]\n",
    "train_X, valid_X, train_y, valid_y = train_test_split(X, y, test_size=0.3, random_state=1) #X_train, X_test, y_train, y_test\n",
    "\n",
    "cereal_lm = LinearRegression()\n",
    "cereal_lm.fit(train_X, train_y)\n",
    "\n",
    "# print coefficients\n",
    "print('intercept ', cereal_lm.intercept_)\n",
    "print(pd.DataFrame({'Predictor': X.columns, 'coefficient': cereal_lm.coef_}))\n",
    "\n",
    "# print performance measures\n",
    "regressionSummary(train_y, cereal_lm.predict(train_X))"
   ]
  },
  {
   "cell_type": "code",
   "execution_count": 18,
   "metadata": {},
   "outputs": [
    {
     "name": "stdout",
     "output_type": "stream",
     "text": [
      "adjusted r2 :  0.9990191875501467\n",
      "AIC :  84.0405069617449\n",
      "BIC :  113.59488566502672\n"
     ]
    }
   ],
   "source": [
    "pred_y = cereal_lm.predict(train_X)\n",
    "\n",
    "print('adjusted r2 : ', adjusted_r2_score(train_y, pred_y, cereal_lm))\n",
    "print('AIC : ', AIC_score(train_y, pred_y, cereal_lm))\n",
    "print('BIC : ', BIC_score(train_y, pred_y, cereal_lm))"
   ]
  },
  {
   "cell_type": "markdown",
   "metadata": {},
   "source": [
    "# Backward elimination"
   ]
  },
  {
   "cell_type": "code",
   "execution_count": 19,
   "metadata": {
    "scrolled": true
   },
   "outputs": [
    {
     "name": "stdout",
     "output_type": "stream",
     "text": [
      "Variables: calories, protein, fat, sodium, fiber, carbo, sugars, potass, vitamins, shelf, weight, cups, type_cereal_H\n",
      "Start: score=86.15\n",
      "Step: score=84.32, remove weight\n",
      "Step: score=82.43, remove potass\n",
      "Step: score=81.49, remove carbo\n",
      "Step: score=80.14, remove shelf\n",
      "Step: score=80.14, remove None\n",
      "['calories', 'protein', 'fat', 'sodium', 'fiber', 'sugars', 'vitamins', 'cups', 'type_cereal_H']\n",
      "Variables: calories, protein, fat, sodium, fiber, carbo, sugars, potass, vitamins, shelf, weight, cups, type_cereal_H\n",
      "Start: score=86.15\n",
      "Step: score=84.32, remove weight\n",
      "Step: score=82.43, remove potass\n",
      "Step: score=81.49, remove carbo\n",
      "Step: score=80.14, remove shelf\n",
      "Step: score=80.14, remove None\n",
      "['calories', 'protein', 'fat', 'sodium', 'fiber', 'sugars', 'vitamins', 'cups', 'type_cereal_H']\n"
     ]
    }
   ],
   "source": [
    "\n",
    "def train_model(variables):\n",
    "    model = LinearRegression()\n",
    "    model.fit(valid_X[variables], valid_y)\n",
    "    return model\n",
    "\n",
    "def score_model(model, variables):\n",
    "    return AIC_score(valid_y, model.predict(valid_X[variables]), model)\n",
    "\n",
    "## this is for training set\n",
    "best_model, best_variables = backward_elimination(train_X.columns, train_model, score_model, verbose=True)\n",
    "\n",
    "print(best_variables)\n",
    "\n",
    "## this is for test set\n",
    "best_model_test, best_variables_test = backward_elimination(valid_X.columns, train_model, score_model, verbose=True)\n",
    "\n",
    "print(best_variables_test)\n"
   ]
  },
  {
   "cell_type": "code",
   "execution_count": 20,
   "metadata": {},
   "outputs": [
    {
     "name": "stdout",
     "output_type": "stream",
     "text": [
      "adjusted r2 :  0.8481124145750694\n",
      "AIC :  150.88678271564768\n",
      "BIC :  168.55759017086686\n"
     ]
    }
   ],
   "source": [
    "pred_y = cereal_lm.predict(valid_X)\n",
    "\n",
    "normal_reg_r2=adjusted_r2_score(valid_y, pred_y, cereal_lm)\n",
    "\n",
    "print('adjusted r2 : ', adjusted_r2_score(valid_y, pred_y, cereal_lm))\n",
    "print('AIC : ', AIC_score(valid_y, pred_y, cereal_lm))\n",
    "print('BIC : ', BIC_score(valid_y, pred_y, cereal_lm))"
   ]
  },
  {
   "cell_type": "markdown",
   "metadata": {},
   "source": [
    "## using sequentialFeatureselector which automatically selects the best features bases on their r2 score. it takes range of features and gives out the best feature set\n",
    "\n",
    "## Here, on the y-axis, the performance label indicates the R-squared values for the different numbers of features."
   ]
  },
  {
   "cell_type": "markdown",
   "metadata": {},
   "source": [
    "## Backward Elimination"
   ]
  },
  {
   "cell_type": "code",
   "execution_count": 21,
   "metadata": {},
   "outputs": [
    {
     "name": "stdout",
     "output_type": "stream",
     "text": [
      "best_Features ('calories', 'protein', 'fat', 'sodium', 'fiber', 'carbo', 'sugars', 'potass', 'vitamins', 'shelf', 'weight', 'cups', 'type_cereal_H')\n"
     ]
    },
    {
     "name": "stderr",
     "output_type": "stream",
     "text": [
      "C:\\Users\\harin\\anaconda3\\lib\\site-packages\\numpy\\core\\_methods.py:216: RuntimeWarning: Degrees of freedom <= 0 for slice\n",
      "  ret = _var(a, axis=axis, dtype=dtype, out=out, ddof=ddof,\n",
      "C:\\Users\\harin\\anaconda3\\lib\\site-packages\\numpy\\core\\_methods.py:209: RuntimeWarning: invalid value encountered in double_scalars\n",
      "  ret = ret.dtype.type(ret / rcount)\n"
     ]
    },
    {
     "data": {
      "image/png": "[encoded data removed]",
      "text/plain": [
       "<Figure size 432x288 with 1 Axes>"
      ]
     },
     "metadata": {
      "needs_background": "light"
     },
     "output_type": "display_data"
    }
   ],
   "source": [
    "from mlxtend.feature_selection import SequentialFeatureSelector as SFS\n",
    "from sklearn.linear_model import LinearRegression\n",
    "# Sequential Forward Selection(sfs)\n",
    "sfs = SFS(LinearRegression(), k_features=(3,X.shape[1]),forward=False,floating=False,scoring = 'r2',cv = 0)\n",
    "\n",
    "\n",
    "\n",
    "sfs.fit(X,y)\n",
    "print(\"best_Features\",sfs.k_feature_names_)\n",
    "\n",
    "from mlxtend.plotting import plot_sequential_feature_selection as plot_sfs\n",
    "import matplotlib.pyplot as plt\n",
    "fig1 = plot_sfs(sfs.get_metric_dict(), kind='std_dev')\n",
    "plt.title('Sequential backward Elimination (w. StdErr)')\n",
    "plt.grid()\n",
    "plt.show()\n"
   ]
  },
  {
   "cell_type": "code",
   "execution_count": 22,
   "metadata": {},
   "outputs": [
    {
     "name": "stdout",
     "output_type": "stream",
     "text": [
      "\n",
      "Regression statistics\n",
      "\n",
      "                      Mean Error (ME) : -0.0000\n",
      "       Root Mean Squared Error (RMSE) : 0.8124\n",
      "            Mean Absolute Error (MAE) : 0.6723\n",
      "          Mean Percentage Error (MPE) : -0.0628\n",
      "Mean Absolute Percentage Error (MAPE) : 1.7121\n"
     ]
    }
   ],
   "source": [
    "regressionSummary(valid_y, best_model_test.predict(valid_X[best_variables]))"
   ]
  },
  {
   "cell_type": "code",
   "execution_count": 23,
   "metadata": {},
   "outputs": [
    {
     "name": "stdout",
     "output_type": "stream",
     "text": [
      "adjusted r2 for Backward Selection :  0.9920586682594615\n"
     ]
    }
   ],
   "source": [
    "print('adjusted r2 for Backward Selection : ', adjusted_r2_score(valid_y, best_model_test.predict(valid_X[best_variables]), best_model_test))\n",
    "\n",
    "backward_reg_r2=adjusted_r2_score(valid_y, best_model_test.predict(valid_X[best_variables]), best_model_test)"
   ]
  },
  {
   "cell_type": "code",
   "execution_count": null,
   "metadata": {},
   "outputs": [],
   "source": []
  },
  {
   "cell_type": "markdown",
   "metadata": {},
   "source": [
    "# Forward Selection"
   ]
  },
  {
   "cell_type": "code",
   "execution_count": 24,
   "metadata": {},
   "outputs": [
    {
     "name": "stdout",
     "output_type": "stream",
     "text": [
      "Variables: calories, protein, fat, sodium, fiber, carbo, sugars, potass, vitamins, shelf, weight, cups, type_cereal_H\n",
      "Start: score=440.43, constant\n",
      "Step: score=394.38, add sugars\n",
      "Step: score=346.90, add fiber\n",
      "Step: score=305.02, add sodium\n",
      "Step: score=254.77, add fat\n",
      "Step: score=207.43, add protein\n",
      "Step: score=192.39, add vitamins\n",
      "Step: score=189.77, add carbo\n",
      "Step: score=146.39, add calories\n",
      "Step: score=110.63, add potass\n",
      "Step: score=79.41, add type_cereal_H\n",
      "Step: score=79.41, add None\n",
      "Variables: calories, protein, fat, sodium, fiber, carbo, sugars, potass, vitamins, shelf, weight, cups, type_cereal_H\n",
      "Start: score=440.43, constant\n",
      "Step: score=394.38, add sugars\n",
      "Step: score=346.90, add fiber\n",
      "Step: score=305.02, add sodium\n",
      "Step: score=254.77, add fat\n",
      "Step: score=207.43, add protein\n",
      "Step: score=192.39, add vitamins\n",
      "Step: score=189.77, add carbo\n",
      "Step: score=146.39, add calories\n",
      "Step: score=110.63, add potass\n",
      "Step: score=79.41, add type_cereal_H\n",
      "Step: score=79.41, add None\n",
      "['sugars', 'fiber', 'sodium', 'fat', 'protein', 'vitamins', 'carbo', 'calories', 'potass', 'type_cereal_H']\n"
     ]
    }
   ],
   "source": [
    "#Forward selection\n",
    "def train_model(variables):\n",
    "    if len(variables) == 0:\n",
    "        return None\n",
    "    model = LinearRegression()\n",
    "    model.fit(train_X[variables], train_y)\n",
    "    return model\n",
    "\n",
    "def score_model(model, variables):\n",
    "    if len(variables) == 0:\n",
    "        return AIC_score(train_y, [train_y.mean()] * len(train_y), model, df=1)\n",
    "    return AIC_score(train_y, model.predict(train_X[variables]), model)\n",
    "\n",
    "best_model, best_variables = forward_selection(train_X.columns, train_model, score_model, verbose=True)\n",
    "\n",
    "# print(best_variables)\n",
    "\n",
    "## for test dataset\n",
    "best_model_test, best_variables_test = forward_selection(valid_X.columns, train_model, score_model, verbose=True)\n",
    "\n",
    "print(best_variables_test)"
   ]
  },
  {
   "cell_type": "code",
   "execution_count": 25,
   "metadata": {},
   "outputs": [
    {
     "name": "stdout",
     "output_type": "stream",
     "text": [
      "best_Features ('calories', 'protein', 'fat', 'sodium', 'fiber', 'carbo', 'sugars', 'potass', 'vitamins', 'shelf', 'weight', 'cups', 'type_cereal_H')\n"
     ]
    },
    {
     "name": "stderr",
     "output_type": "stream",
     "text": [
      "C:\\Users\\harin\\anaconda3\\lib\\site-packages\\numpy\\core\\_methods.py:216: RuntimeWarning: Degrees of freedom <= 0 for slice\n",
      "  ret = _var(a, axis=axis, dtype=dtype, out=out, ddof=ddof,\n",
      "C:\\Users\\harin\\anaconda3\\lib\\site-packages\\numpy\\core\\_methods.py:209: RuntimeWarning: invalid value encountered in double_scalars\n",
      "  ret = ret.dtype.type(ret / rcount)\n"
     ]
    },
    {
     "data": {
      "image/png": "[encoded data removed]",
      "text/plain": [
       "<Figure size 432x288 with 1 Axes>"
      ]
     },
     "metadata": {
      "needs_background": "light"
     },
     "output_type": "display_data"
    }
   ],
   "source": [
    "from mlxtend.feature_selection import SequentialFeatureSelector as SFS\n",
    "from sklearn.linear_model import LinearRegression\n",
    "# Sequential Forward Selection(sfs)\n",
    "sfs = SFS(LinearRegression(), k_features=(3,X.shape[1]),forward=True,floating=False,scoring = 'r2',cv = 0)\n",
    "\n",
    "\n",
    "\n",
    "sfs.fit(X,y)\n",
    "print(\"best_Features\",sfs.k_feature_names_)\n",
    "\n",
    "from mlxtend.plotting import plot_sequential_feature_selection as plot_sfs\n",
    "import matplotlib.pyplot as plt\n",
    "fig1 = plot_sfs(sfs.get_metric_dict(), kind='std_dev')\n",
    "plt.title('Sequential Forward Selection (w. StdErr)')\n",
    "plt.grid()\n",
    "plt.show()"
   ]
  },
  {
   "cell_type": "code",
   "execution_count": 26,
   "metadata": {},
   "outputs": [
    {
     "name": "stdout",
     "output_type": "stream",
     "text": [
      "\n",
      "Regression statistics\n",
      "\n",
      "                      Mean Error (ME) : -0.8170\n",
      "       Root Mean Squared Error (RMSE) : 2.9797\n",
      "            Mean Absolute Error (MAE) : 0.8390\n",
      "          Mean Percentage Error (MPE) : -1.6824\n",
      "Mean Absolute Percentage Error (MAPE) : 1.7203\n"
     ]
    }
   ],
   "source": [
    "regressionSummary(valid_y, best_model.predict(valid_X[best_variables]))"
   ]
  },
  {
   "cell_type": "code",
   "execution_count": 27,
   "metadata": {},
   "outputs": [
    {
     "name": "stdout",
     "output_type": "stream",
     "text": [
      "adjusted r2 for Forward Selection :  0.884953408827578\n"
     ]
    }
   ],
   "source": [
    "print('adjusted r2 for Forward Selection : ', adjusted_r2_score(valid_y, best_model.predict(valid_X[best_variables]), best_model_test))\n",
    "forward_reg_r2=adjusted_r2_score(valid_y, best_model.predict(valid_X[best_variables]), best_model_test)"
   ]
  },
  {
   "cell_type": "code",
   "execution_count": 28,
   "metadata": {},
   "outputs": [
    {
     "name": "stdout",
     "output_type": "stream",
     "text": [
      "Variables: calories, protein, fat, sodium, fiber, carbo, sugars, potass, vitamins, shelf, weight, cups, type_cereal_H\n",
      "Start: score=440.43, constant\n",
      "Step: score=394.38, add sugars\n",
      "Step: score=346.90, add fiber\n",
      "Step: score=305.02, add sodium\n",
      "Step: score=254.77, add fat\n",
      "Step: score=207.43, add protein\n",
      "Step: score=192.39, add vitamins\n",
      "Step: score=189.77, add carbo\n",
      "Step: score=146.39, add calories\n",
      "Step: score=110.63, add potass\n",
      "Step: score=79.41, add type_cereal_H\n",
      "Step: score=79.41, unchanged None\n",
      "['sugars', 'fiber', 'sodium', 'fat', 'protein', 'vitamins', 'carbo', 'calories', 'potass', 'type_cereal_H']\n"
     ]
    }
   ],
   "source": [
    "best_model, best_variables = stepwise_selection(train_X.columns, train_model, score_model, verbose=True)\n",
    "\n",
    "print(best_variables)"
   ]
  },
  {
   "cell_type": "code",
   "execution_count": 29,
   "metadata": {},
   "outputs": [
    {
     "name": "stdout",
     "output_type": "stream",
     "text": [
      "adjusted r2 for Stepwise Selection :  0.884953408827578\n"
     ]
    }
   ],
   "source": [
    "print('adjusted r2 for Stepwise Selection : ', adjusted_r2_score(valid_y, best_model.predict(valid_X[best_variables]), best_model))"
   ]
  },
  {
   "cell_type": "code",
   "execution_count": 30,
   "metadata": {},
   "outputs": [
    {
     "name": "stdout",
     "output_type": "stream",
     "text": [
      "\n",
      "Regression statistics\n",
      "\n",
      "                      Mean Error (ME) : -1.4245\n",
      "       Root Mean Squared Error (RMSE) : 8.8176\n",
      "            Mean Absolute Error (MAE) : 6.9737\n",
      "          Mean Percentage Error (MPE) : -10.6323\n",
      "Mean Absolute Percentage Error (MAPE) : 20.1475\n",
      "\n",
      "Regression statistics\n",
      "\n",
      "                      Mean Error (ME) : -0.8668\n",
      "       Root Mean Squared Error (RMSE) : 2.8851\n",
      "            Mean Absolute Error (MAE) : 0.8928\n",
      "          Mean Percentage Error (MPE) : -1.8531\n",
      "Mean Absolute Percentage Error (MAPE) : 1.8958\n",
      "Lasso-CV chosen regularization:  0.0015752732180653744\n",
      "[-2.20584716e-01  3.17976788e+00 -1.69959058e+00 -5.34918856e-02\n",
      "  3.27237399e+00  1.05410123e+00 -7.60076057e-01 -2.79479675e-02\n",
      " -5.00911685e-02  3.20549713e-03 -0.00000000e+00 -1.16320886e-01\n",
      "  2.94588319e+00]\n",
      "0.8597829604313643\n"
     ]
    }
   ],
   "source": [
    "#Lasso regularized method\n",
    "lasso = Lasso(normalize=True, alpha=1)\n",
    "lasso.fit(train_X, train_y)\n",
    "regressionSummary(valid_y, lasso.predict(valid_X))\n",
    "\n",
    "lasso_cv = LassoCV(normalize=True, cv=5)\n",
    "lasso_cv.fit(train_X, train_y)\n",
    "regressionSummary(valid_y, lasso_cv.predict(valid_X))\n",
    "print('Lasso-CV chosen regularization: ', lasso_cv.alpha_)\n",
    "print(lasso_cv.coef_)\n",
    "print(adjusted_r2_score(valid_y,lasso_cv.predict(valid_X),lasso_cv))\n",
    "lasso_reg_r2=adjusted_r2_score(valid_y,lasso_cv.predict(valid_X),lasso_cv)"
   ]
  },
  {
   "cell_type": "markdown",
   "metadata": {},
   "source": [
    "## Ideally, lower RMSE and higher R-squared values are indicative of a good model.\n",
    "## we have considered R2 -square for our problem."
   ]
  },
  {
   "cell_type": "code",
   "execution_count": 31,
   "metadata": {},
   "outputs": [
    {
     "data": {
      "text/html": [
       "<div>\n",
       "<style scoped>\n",
       "    .dataframe tbody tr th:only-of-type {\n",
       "        vertical-align: middle;\n",
       "    }\n",
       "\n",
       "    .dataframe tbody tr th {\n",
       "        vertical-align: top;\n",
       "    }\n",
       "\n",
       "    .dataframe thead th {\n",
       "        text-align: right;\n",
       "    }\n",
       "</style>\n",
       "<table border=\"1\" class=\"dataframe\">\n",
       "  <thead>\n",
       "    <tr style=\"text-align: right;\">\n",
       "      <th></th>\n",
       "      <th>Methods</th>\n",
       "      <th>R2 Square</th>\n",
       "    </tr>\n",
       "  </thead>\n",
       "  <tbody>\n",
       "    <tr>\n",
       "      <th>0</th>\n",
       "      <td>Normal Regression</td>\n",
       "      <td>0.848112</td>\n",
       "    </tr>\n",
       "    <tr>\n",
       "      <th>1</th>\n",
       "      <td>Backward Selection</td>\n",
       "      <td>0.992059</td>\n",
       "    </tr>\n",
       "    <tr>\n",
       "      <th>2</th>\n",
       "      <td>Forward Selection</td>\n",
       "      <td>0.884953</td>\n",
       "    </tr>\n",
       "    <tr>\n",
       "      <th>3</th>\n",
       "      <td>Lasso penalty Regression</td>\n",
       "      <td>0.859783</td>\n",
       "    </tr>\n",
       "  </tbody>\n",
       "</table>\n",
       "</div>"
      ],
      "text/plain": [
       "                    Methods  R2 Square\n",
       "0         Normal Regression   0.848112\n",
       "1        Backward Selection   0.992059\n",
       "2         Forward Selection   0.884953\n",
       "3  Lasso penalty Regression   0.859783"
      ]
     },
     "execution_count": 31,
     "metadata": {},
     "output_type": "execute_result"
    }
   ],
   "source": [
    "## From the three different approaches\n",
    "results={'Normal Regression':normal_reg_r2,'Backward Selection':backward_reg_r2,'Forward Selection':forward_reg_r2,'Lasso penalty Regression':lasso_reg_r2}\n",
    "results_df=pd.DataFrame(list(results.items()))\n",
    "results_df.columns=['Methods','R2 Square']\n",
    "results_df\n",
    "\n"
   ]
  },
  {
   "cell_type": "markdown",
   "metadata": {},
   "source": [
    "## After training model on different methods , we came to conclusion that based on r2 square value both backward and forward selection features gave the same results with a great r2 square value of 0.884953\n",
    "\n",
    "## both forward selection and backward selection had selection same features as the best features"
   ]
  }
 ],
 "metadata": {
  "kernelspec": {
   "display_name": "Python 3",
   "language": "python",
   "name": "python3"
  },
  "language_info": {
   "codemirror_mode": {
    "name": "ipython",
    "version": 3
   },
   "file_extension": ".py",
   "mimetype": "text/x-python",
   "name": "python",
   "nbconvert_exporter": "python",
   "pygments_lexer": "ipython3",
   "version": "3.8.3"
  }
 },
 "nbformat": 4,
 "nbformat_minor": 5
}
